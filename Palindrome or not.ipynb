{
 "cells": [
  {
   "cell_type": "code",
   "execution_count": 4,
   "id": "31b5a69c",
   "metadata": {},
   "outputs": [
    {
     "name": "stdout",
     "output_type": "stream",
     "text": [
      "Enter a Stringsome\n",
      "The spring is not a palindrome\n"
     ]
    }
   ],
   "source": [
    "string = input (\"Enter a String\")\n",
    "if (string == string[::-1]):\n",
    "    print(\"The string is a palindrome\")\n",
    "else:\n",
    "    print (\"The spring is not a palindrome\")"
   ]
  }
 ],
 "metadata": {
  "kernelspec": {
   "display_name": "Python 3 (ipykernel)",
   "language": "python",
   "name": "python3"
  },
  "language_info": {
   "codemirror_mode": {
    "name": "ipython",
    "version": 3
   },
   "file_extension": ".py",
   "mimetype": "text/x-python",
   "name": "python",
   "nbconvert_exporter": "python",
   "pygments_lexer": "ipython3",
   "version": "3.9.7"
  }
 },
 "nbformat": 4,
 "nbformat_minor": 5
}
