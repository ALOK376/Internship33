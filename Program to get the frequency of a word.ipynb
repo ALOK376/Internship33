{
 "cells": [
  {
   "cell_type": "code",
   "execution_count": 2,
   "id": "ab00a7c0",
   "metadata": {},
   "outputs": [
    {
     "name": "stdout",
     "output_type": "stream",
     "text": [
      "Enter the string:ALOK\n",
      "{'A': 1}\n",
      "{'A': 1, 'L': 1}\n",
      "{'A': 1, 'L': 1, 'O': 1}\n",
      "{'A': 1, 'L': 1, 'O': 1, 'K': 1}\n"
     ]
    }
   ],
   "source": [
    "str = input(\"Enter the string:\")\n",
    "d = dict()\n",
    "for c in str:\n",
    "    if c in d:\n",
    "        d[c] = d[c] +1\n",
    "    else:\n",
    "        d[c] = 1\n",
    "    print (d)"
   ]
  }
 ],
 "metadata": {
  "kernelspec": {
   "display_name": "Python 3 (ipykernel)",
   "language": "python",
   "name": "python3"
  },
  "language_info": {
   "codemirror_mode": {
    "name": "ipython",
    "version": 3
   },
   "file_extension": ".py",
   "mimetype": "text/x-python",
   "name": "python",
   "nbconvert_exporter": "python",
   "pygments_lexer": "ipython3",
   "version": "3.9.7"
  }
 },
 "nbformat": 4,
 "nbformat_minor": 5
}
