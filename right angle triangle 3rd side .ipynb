{
 "cells": [
  {
   "cell_type": "code",
   "execution_count": 2,
   "id": "077f72e7",
   "metadata": {},
   "outputs": [
    {
     "name": "stdout",
     "output_type": "stream",
     "text": [
      "Enter the base of right triange8\n",
      "Enter the Height of right triangle 11\n",
      "Hypotenuse = 13.601470508735444\n"
     ]
    }
   ],
   "source": [
    "import math\n",
    "a = float (input(\"Enter the base of right triange\"))\n",
    "b = float (input (\"Enter the Height of right triangle \"))\n",
    "c= math . sqrt(a**2 +b**2)\n",
    "print (\"Hypotenuse =\", c)\n"
   ]
  }
 ],
 "metadata": {
  "kernelspec": {
   "display_name": "Python 3 (ipykernel)",
   "language": "python",
   "name": "python3"
  },
  "language_info": {
   "codemirror_mode": {
    "name": "ipython",
    "version": 3
   },
   "file_extension": ".py",
   "mimetype": "text/x-python",
   "name": "python",
   "nbconvert_exporter": "python",
   "pygments_lexer": "ipython3",
   "version": "3.9.7"
  }
 },
 "nbformat": 4,
 "nbformat_minor": 5
}
